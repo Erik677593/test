{
  "metadata": {
    "kernelspec": {
      "name": "python",
      "display_name": "Python (Pyodide)",
      "language": "python"
    },
    "language_info": {
      "codemirror_mode": {
        "name": "python",
        "version": 3
      },
      "file_extension": ".py",
      "mimetype": "text/x-python",
      "name": "python",
      "nbconvert_exporter": "python",
      "pygments_lexer": "ipython3",
      "version": "3.8"
    }
  },
  "nbformat_minor": 4,
  "nbformat": 4,
  "cells": [
    {
      "cell_type": "code",
      "source": "import sympy\nfrom sympy import simplify, diff, sin, expand_multinomial\nfrom sympy.abc import a, b, omega, t, s, w",
      "metadata": {
        "trusted": true,
        "jupyter": {
          "source_hidden": true
        }
      },
      "outputs": [],
      "execution_count": 7
    },
    {
      "cell_type": "markdown",
      "source": "Аппроксимируем характеристики B = f(H) укороченным полиномом 3 степени",
      "metadata": {}
    },
    {
      "cell_type": "code",
      "source": "H = sympy.symbols('H')\nB = a*H + b*H**3\nB # индукция B, где a и b - коэффициенты аппроксимации, завис. от сердечника",
      "metadata": {
        "trusted": true,
        "jupyter": {
          "source_hidden": true
        }
      },
      "outputs": [
        {
          "execution_count": 9,
          "output_type": "execute_result",
          "data": {
            "text/plain": "H**3*b + H*a",
            "text/latex": "$\\displaystyle H^{3} b + H a$"
          },
          "metadata": {}
        }
      ],
      "execution_count": 9
    },
    {
      "cell_type": "markdown",
      "source": "Тогда, подставим сумму и разность полей H0 и H1",
      "metadata": {}
    },
    {
      "cell_type": "code",
      "source": "H0,H1,Hm = sympy.symbols('H0 H1 Hm')\nB1 = B.subs(H,H0-H1)\nB1 # индукция в первом сердечнике ",
      "metadata": {
        "trusted": true,
        "jupyter": {
          "source_hidden": true
        }
      },
      "outputs": [
        {
          "execution_count": 10,
          "output_type": "execute_result",
          "data": {
            "text/plain": "a*(H0 - H1) + b*(H0 - H1)**3",
            "text/latex": "$\\displaystyle a \\left(H_{0} - H_{1}\\right) + b \\left(H_{0} - H_{1}\\right)^{3}$"
          },
          "metadata": {}
        }
      ],
      "execution_count": 10
    },
    {
      "cell_type": "code",
      "source": "B2 = B.subs(H,H0+H1)\nB2 # индукция во втором сердечнике ",
      "metadata": {
        "trusted": true,
        "jupyter": {
          "source_hidden": true
        }
      },
      "outputs": [
        {
          "execution_count": 11,
          "output_type": "execute_result",
          "data": {
            "text/plain": "a*(H0 + H1) + b*(H0 + H1)**3",
            "text/latex": "$\\displaystyle a \\left(H_{0} + H_{1}\\right) + b \\left(H_{0} + H_{1}\\right)^{3}$"
          },
          "metadata": {}
        }
      ],
      "execution_count": 11
    },
    {
      "cell_type": "markdown",
      "source": "Расскроим скобки",
      "metadata": {}
    },
    {
      "cell_type": "code",
      "source": "expand_multinomial(B1)",
      "metadata": {
        "trusted": true,
        "jupyter": {
          "source_hidden": true
        }
      },
      "outputs": [
        {
          "execution_count": 12,
          "output_type": "execute_result",
          "data": {
            "text/plain": "a*(H0 - H1) + b*(H0**3 - 3*H0**2*H1 + 3*H0*H1**2 - H1**3)",
            "text/latex": "$\\displaystyle a \\left(H_{0} - H_{1}\\right) + b \\left(H_{0}^{3} - 3 H_{0}^{2} H_{1} + 3 H_{0} H_{1}^{2} - H_{1}^{3}\\right)$"
          },
          "metadata": {}
        }
      ],
      "execution_count": 12
    },
    {
      "cell_type": "code",
      "source": "expand_multinomial(B2)",
      "metadata": {
        "trusted": true,
        "jupyter": {
          "source_hidden": true
        }
      },
      "outputs": [
        {
          "execution_count": 13,
          "output_type": "execute_result",
          "data": {
            "text/plain": "a*(H0 + H1) + b*(H0**3 + 3*H0**2*H1 + 3*H0*H1**2 + H1**3)",
            "text/latex": "$\\displaystyle a \\left(H_{0} + H_{1}\\right) + b \\left(H_{0}^{3} + 3 H_{0}^{2} H_{1} + 3 H_{0} H_{1}^{2} + H_{1}^{3}\\right)$"
          },
          "metadata": {}
        }
      ],
      "execution_count": 13
    },
    {
      "cell_type": "markdown",
      "source": "Положим H1 - синусоида с амплитудой Hm, тогда индукция будет иметь вид:",
      "metadata": {}
    },
    {
      "cell_type": "code",
      "source": "Bsum = B1+B2\nBsum = simplify(Bsum.subs(H1,Hm*sin(omega*t)))\nBsum",
      "metadata": {
        "trusted": true,
        "jupyter": {
          "source_hidden": true
        }
      },
      "outputs": [
        {
          "execution_count": 14,
          "output_type": "execute_result",
          "data": {
            "text/plain": "2*H0*(H0**2*b + 3*Hm**2*b*sin(omega*t)**2 + a)",
            "text/latex": "$\\displaystyle 2 H_{0} \\left(H_{0}^{2} b + 3 Hm^{2} b \\sin^{2}{\\left(\\omega t \\right)} + a\\right)$"
          },
          "metadata": {}
        }
      ],
      "execution_count": 14
    },
    {
      "cell_type": "markdown",
      "source": "И на вторичной обмотке появится ЭДС следующего вида:",
      "metadata": {}
    },
    {
      "cell_type": "code",
      "source": "EMF = -s*w*simplify(diff(Bsum,t))\nEMF",
      "metadata": {
        "trusted": true,
        "jupyter": {
          "source_hidden": true
        }
      },
      "outputs": [
        {
          "execution_count": 15,
          "output_type": "execute_result",
          "data": {
            "text/plain": "-6*H0*Hm**2*b*omega*s*w*sin(2*omega*t)",
            "text/latex": "$\\displaystyle - 6 H_{0} Hm^{2} b \\omega s w \\sin{\\left(2 \\omega t \\right)}$"
          },
          "metadata": {}
        }
      ],
      "execution_count": 15
    },
    {
      "cell_type": "markdown",
      "source": "Таким образом ЭДС в феррозонде появляется при наличии постоянного поля и оказывается пропорционално ему.\nА так же ЭДС имеет удвоенную частоту.",
      "metadata": {}
    }
  ]
}